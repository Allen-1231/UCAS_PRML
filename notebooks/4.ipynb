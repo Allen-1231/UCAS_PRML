{
 "cells": [
  {
   "cell_type": "markdown",
   "metadata": {},
   "source": [
    "# 第四章作业"
   ]
  },
  {
   "cell_type": "markdown",
   "metadata": {},
   "source": [
    "1. 问题：三类模式样本集\n",
    "\n",
    "w1:(1,0),(2,0),(1,1)\n",
    "\n",
    "w2:(-1,0),(0,1),(-1,1)\n",
    "\n",
    "w3:(-1,-1),(0,-1),(0,-2)\n",
    "\n",
    "先验概率相等"
   ]
  },
  {
   "cell_type": "markdown",
   "metadata": {},
   "source": [
    "答：\n",
    "\n",
    "均值：\n",
    "\n",
    "m1=(4/3,1/3)\n",
    "\n",
    "m2=(-2/3,2/3)\n",
    "\n",
    "m3=(-1/3,-4/3)\n",
    "\n",
    "m=(1/9,-1/9)\n",
    "\n",
    "协方差矩阵\n",
    "\n",
    "c1=1/9*[[2,-1],[-1,2]]\n",
    "\n",
    "c2=1/9*[[2,1],[1,2]]\n",
    "\n",
    "c3=1/9*[[2,-1],[-1,2]]\n",
    "\n",
    "类间散布矩阵Sb=1/81*[[62,13],[13,62]]\n",
    "\n",
    "类内散布矩阵Sw=1/27*[[6,-1],[-1,6]]"
   ]
  },
  {
   "cell_type": "markdown",
   "metadata": {},
   "source": [
    "2. 问题：两类样本集，出现概率相等\n",
    "\n",
    "w1:(0,0,0),(2,0,0),(2,0,1),(1,2,0)\n",
    "\n",
    "w1:(0,0,1),(0,1,0),(0,-2,1),(1,1,-2)\n",
    "\n",
    "使用K-L变换降维到二维和一维，并画出样本在样本空间中的位置"
   ]
  },
  {
   "cell_type": "code",
   "execution_count": 33,
   "metadata": {
    "pycharm": {
     "is_executing": false,
     "name": "#%%\n"
    }
   },
   "outputs": [
    {
     "name": "stdout",
     "output_type": "stream",
     "text": [
      "自相关矩阵\n",
      "\n",
      "[[ 0.6875    0.1875   -0.09375 ]\n",
      " [ 0.1875    1.1875   -0.53125 ]\n",
      " [-0.09375  -0.53125   0.859375]]\n",
      "特征值和特征向量\n",
      "\n",
      "[1.625      0.64876246 0.46061254]\n",
      "[[ 0.21538745  0.95853318 -0.18660756]\n",
      " [ 0.78975397 -0.05858624  0.61061961]\n",
      " [-0.57436653  0.27889386  0.76962413]]\n",
      "降到二维的样本点\n",
      "\n",
      "[[-0.28718326  0.14359163 -0.4307749   1.50771213]\n",
      " [-0.73911506  1.17795131  1.45684517  0.10224564]]\n",
      "[[-0.86154979  0.50257071 -2.44105774  1.86669121]\n",
      " [-0.4602212  -0.7977013  -0.34304872 -0.39695584]]\n",
      "降到一维的样本点\n",
      "\n",
      "[[-0.28718326  0.14359163 -0.4307749   1.50771213]]\n",
      "[[-0.86154979  0.50257071 -2.44105774  1.86669121]]\n"
     ]
    }
   ],
   "source": [
    "import numpy as np\n",
    "\n",
    "w1 = [[0, 0, 0], [2, 0, 0], [2, 0, 1], [1, 2, 0]]\n",
    "w1 = np.array(w1)\n",
    "w1 = w1.T\n",
    "\n",
    "w2 = [[0, 0, 1], [0, 1, 0], [0, -2, 1], [1, 1, -2]]\n",
    "w2 = np.array(w2)\n",
    "w2 = w2.T\n",
    "\n",
    "# print(w1)\n",
    "# print(w2)\n",
    "\n",
    "w = np.concatenate((w1, w2), axis=1)\n",
    "# print(w)\n",
    "m = np.mean(w, axis=1, keepdims=True)\n",
    "# print(m)\n",
    "\n",
    "w1 = w1 - m\n",
    "w2 = w2 - m\n",
    "w = w - m\n",
    "# print(w1)\n",
    "# print(w2)\n",
    "\n",
    "tmp1 = np.zeros([3, 3])\n",
    "for i in range(np.size(w1, 1)):\n",
    "    test_i = w1[:, i].reshape([3, 1])\n",
    "    tmp1 = tmp1 + test_i * test_i.T\n",
    "tmp1 = tmp1/4\n",
    "\n",
    "tmp2 = np.zeros([3, 3])\n",
    "for i in range(np.size(w2, 1)):\n",
    "    test_i = w2[:, i].reshape([3, 1])\n",
    "    tmp2 = tmp2 + test_i * test_i.T\n",
    "tmp2 = tmp2/4\n",
    "\n",
    "# tmp = np.zeros([3, 3])\n",
    "# for i in range(np.size(w, 1)):\n",
    "#     test_i = w[:, i].reshape([3, 1])\n",
    "#     tmp = tmp + test_i * test_i.T\n",
    "\n",
    "R = 0.5 * tmp1 + 0.5 * tmp2\n",
    "print(\"自相关矩阵\\n\")\n",
    "print(R)\n",
    "\n",
    "\n",
    "eigenvalue, featurevector=np.linalg.eig(R)\n",
    "print(\"特征值和特征向量\\n\")\n",
    "print(eigenvalue)\n",
    "print(featurevector)\n",
    "featurevector1 = featurevector[:,0].reshape([3,1])\n",
    "featurevector2 = featurevector[:,1].reshape([3,1])\n",
    "\n",
    "u2 = w = np.concatenate((featurevector1, featurevector2), axis=1)\n",
    "w1_2 = np.dot(u2.T,w1)\n",
    "w2_2 = np.dot(u2.T,w2)\n",
    "print(\"降到二维的样本点\\n\")\n",
    "print(w1_2)\n",
    "print(w2_2)\n",
    "\n",
    "u1 = featurevector1\n",
    "w1_1 = np.dot(u1.T,w1)\n",
    "w2_1 = np.dot(u1.T,w2)\n",
    "print(\"降到一维的样本点\\n\")\n",
    "print(w1_1)\n",
    "print(w2_1)"
   ]
  },
  {
   "cell_type": "code",
   "execution_count": 34,
   "metadata": {
    "pycharm": {
     "is_executing": false,
     "name": "#%%\n"
    }
   },
   "outputs": [
    {
     "data": {
      "image/png": "[encoded data removed]",
      "text/plain": [
       "<Figure size 432x288 with 1 Axes>"
      ]
     },
     "metadata": {
      "needs_background": "light"
     },
     "output_type": "display_data"
    },
    {
     "data": {
      "image/png": "[encoded data removed]",
      "text/plain": [
       "<Figure size 432x288 with 1 Axes>"
      ]
     },
     "metadata": {
      "needs_background": "light"
     },
     "output_type": "display_data"
    }
   ],
   "source": [
    "import matplotlib.pyplot as plt\n",
    "# 绘制样本点\n",
    "plt.scatter(w1_2[0], w1_2[1], marker='o')\n",
    "plt.scatter(w2_2[0], w2_2[1], marker='^')\n",
    "# 展示\n",
    "plt.show()\n",
    "\n",
    "plt.scatter(w1_1[0], np.zeros([4]), marker='o')\n",
    "plt.scatter(w2_1[0], np.zeros([4]), marker='^')\n",
    "# 展示\n",
    "plt.show()"
   ]
  }
 ],
 "metadata": {
  "kernelspec": {
   "display_name": "Python 3",
   "language": "python",
   "name": "python3"
  },
  "language_info": {
   "codemirror_mode": {
    "name": "ipython",
    "version": 3
   },
   "file_extension": ".py",
   "mimetype": "text/x-python",
   "name": "python",
   "nbconvert_exporter": "python",
   "pygments_lexer": "ipython3",
   "version": "3.7.4"
  },
  "pycharm": {
   "stem_cell": {
    "cell_type": "raw",
    "metadata": {
     "collapsed": false
    },
    "source": []
   }
  }
 },
 "nbformat": 4,
 "nbformat_minor": 2
}
