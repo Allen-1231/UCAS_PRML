{
 "cells": [
  {
   "cell_type": "markdown",
   "metadata": {
    "collapsed": true,
    "pycharm": {
     "is_executing": false,
     "name": "#%% md\n"
    }
   },
   "source": [
    "# 第二章作业\n",
    "\n",
    "两类模式具有正态概率密度函数\n",
    "\n",
    "ω1 {(0,0),(2,0),(2,2),(0,2)}\n",
    "\n",
    "ω2 {(4,4),(6,4),(6,6),(4,6)}\n",
    "\n",
    "P(ω1) = P(ω2) = 1/2\n",
    "1. 求这两类模式之间的贝叶斯判别界面的方程式\n",
    "2. 绘出判别界面"
   ]
  },
  {
   "cell_type": "code",
   "execution_count": 7,
   "metadata": {
    "pycharm": {
     "is_executing": false,
     "name": "#%%\n"
    }
   },
   "outputs": [],
   "source": [
    "import numpy as np\n",
    "import matplotlib.pyplot as plt"
   ]
  },
  {
   "cell_type": "code",
   "execution_count": 8,
   "metadata": {
    "pycharm": {
     "is_executing": false,
     "name": "#%%\n"
    }
   },
   "outputs": [],
   "source": [
    "def get_n_m_c_c_inv(test):\n",
    "    # 维度k\n",
    "    k = np.size(test, 0)\n",
    "    # 样本数目n\n",
    "    n = np.size(test, 1)\n",
    "    # 均值m\n",
    "    m = np.mean(test, axis=1, keepdims=True)\n",
    "    # 中间变量tmp\n",
    "    tmp = test - m\n",
    "    # 协方差矩阵c\n",
    "    c = np.zeros([k, k])\n",
    "    for i in range(n):\n",
    "        test_i = tmp[:, i].reshape([k, 1])\n",
    "        c = c + test_i * test_i.T\n",
    "    c = c/n\n",
    "    # 协方差矩阵转置c_inv\n",
    "    c_mat = np.mat(c)\n",
    "    c_inv = np.linalg.inv(c_mat)\n",
    "    return m, c, c_inv"
   ]
  },
  {
   "cell_type": "code",
   "execution_count": 9,
   "metadata": {
    "pycharm": {
     "is_executing": false,
     "name": "#%%\n"
    }
   },
   "outputs": [],
   "source": [
    "# for test\n",
    "# test1 = [[1, 0, 1], [1, 0, 0], [0, 0, 0], [1, 1, 0]]\n",
    "# test1 = np.array(test1)\n",
    "# test1 = test1.T\n",
    "\n",
    "# test2 = [[0, 0, 1], [0, 1, 1], [0, 1, 0], [1, 1, 1]]\n",
    "# test2 = np.array(test2)\n",
    "# test2 = test2.T\n",
    "\n",
    "# m_1, c_1, c_inv_1 = get_n_m_c_c_inv(test1)\n",
    "# m_2, c_2, c_inv_2 = get_n_m_c_c_inv(test2)\n",
    "\n",
    "# print(m_1)\n",
    "# print(m_2)\n",
    "# print(c_1)\n",
    "# print(c_2)"
   ]
  },
  {
   "cell_type": "code",
   "execution_count": 10,
   "metadata": {
    "pycharm": {
     "is_executing": false,
     "name": "#%%\n"
    }
   },
   "outputs": [
    {
     "name": "stdout",
     "output_type": "stream",
     "text": [
      "[[1.]\n",
      " [1.]]\n",
      "[[5.]\n",
      " [5.]]\n",
      "[[1. 0.]\n",
      " [0. 1.]]\n",
      "[[1. 0.]\n",
      " [0. 1.]]\n"
     ]
    }
   ],
   "source": [
    "w1 = [[0, 0], [2, 0], [2, 2], [0, 2]]\n",
    "w2 = [[4, 4], [6, 4], [6, 6], [4, 6]]\n",
    "w1 = np.array(w1)\n",
    "w2 = np.array(w2)\n",
    "w1 = w1.T\n",
    "w2 = w2.T\n",
    "\n",
    "m_1, c_1, c_inv_1 = get_n_m_c_c_inv(w1)\n",
    "m_2, c_2, c_inv_2 = get_n_m_c_c_inv(w2)\n",
    "\n",
    "print(m_1)\n",
    "print(m_2)\n",
    "print(c_1)\n",
    "print(c_2)"
   ]
  },
  {
   "cell_type": "markdown",
   "metadata": {},
   "source": [
    "协方差矩阵 c_1 = c_2\n",
    "因为 P(ω1) = P(ω2)\n",
    "所以判别界面方程中 ln(P(ω1)) - ln(P(ω2)) = 0"
   ]
  },
  {
   "cell_type": "code",
   "execution_count": 11,
   "metadata": {
    "pycharm": {
     "is_executing": false,
     "name": "#%%\n"
    }
   },
   "outputs": [
    {
     "name": "stdout",
     "output_type": "stream",
     "text": [
      "[[-4. -4.]]\n",
      "[[24.]]\n"
     ]
    }
   ],
   "source": [
    "# 求解判别界面方程\n",
    "# x前系数\n",
    "m_tmp = m_1 - m_2\n",
    "m_tmp = m_tmp.T\n",
    "x_p = m_tmp * c_inv_1\n",
    "print(x_p)\n",
    "\n",
    "# 常数参数\n",
    "b = 1/2 * m_2.T * c_inv_2 * m_2 - 1/2 * m_1.T * c_inv_1 * m_1\n",
    "print(b)"
   ]
  },
  {
   "cell_type": "code",
   "execution_count": 12,
   "metadata": {
    "pycharm": {
     "is_executing": false,
     "name": "#%%\n"
    }
   },
   "outputs": [
    {
     "data": {
      "image/png": "[encoded data removed]",
      "text/plain": [
       "<Figure size 432x288 with 1 Axes>"
      ]
     },
     "metadata": {
      "needs_background": "light"
     },
     "output_type": "display_data"
    }
   ],
   "source": [
    "# 作图\n",
    "# - 4x1 - 4x2 + 24 = 0\n",
    "# x2 = -x1 + 6\n",
    "x1 = np.arange(-2, 8)\n",
    "x2 = -x1 + 6\n",
    "# 绘制直线\n",
    "plt.plot(x1, x2)\n",
    "# 绘制样本点\n",
    "w1_x1 = w1[0]\n",
    "w1_x2 = w1[1]\n",
    "w2_x1 = w2[0]\n",
    "w2_x2 = w2[1]\n",
    "plt.scatter(w1_x1, w1_x2, marker='o')\n",
    "plt.scatter(w2_x1, w2_x2, marker='^')\n",
    "# 展示\n",
    "plt.show()\n"
   ]
  }
 ],
 "metadata": {
  "kernelspec": {
   "display_name": "Python 3",
   "language": "python",
   "name": "python3"
  },
  "language_info": {
   "codemirror_mode": {
    "name": "ipython",
    "version": 3
   },
   "file_extension": ".py",
   "mimetype": "text/x-python",
   "name": "python",
   "nbconvert_exporter": "python",
   "pygments_lexer": "ipython3",
   "version": "3.7.4"
  },
  "pycharm": {
   "stem_cell": {
    "cell_type": "raw",
    "metadata": {
     "collapsed": false
    },
    "source": []
   }
  }
 },
 "nbformat": 4,
 "nbformat_minor": 1
}
