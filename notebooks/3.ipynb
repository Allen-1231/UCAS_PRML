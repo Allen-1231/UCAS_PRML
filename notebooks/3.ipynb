{
 "cells": [
  {
   "cell_type": "markdown",
   "metadata": {
    "collapsed": true,
    "pycharm": {
     "name": "#%% md\n"
    }
   },
   "source": [
    "# 第三章作业\n",
    "\n",
    "## 一、\n",
    "\n",
    "问题：在一个10类的模式识别问题中，有3类单独满足多类情况1，其余的类别满足多类情况2。问该模式识别问题所需判别函数的最少数目是多少？\n",
    "\n",
    "答：最小判别函数数目为 3 + 7 * ( 7 - 1 ) / 2 + 1 = 25，即用一个判别函数分开多类情况1和多类情况2，再对每个多类情况应用对应的判别函数分开。"
   ]
  },
  {
   "cell_type": "markdown",
   "source": [
    "## 二、\n",
    "\n",
    "问题：一个三类问题，其判别函数：d1(x)=-x1, d2(x)=x1+x2-1, d3(x)=x1-x2-1\n",
    "1. 设这些函数是在多类情况1条件下确定的，绘出其判别界面和每一个模式类别的区域。\n",
    "2. 设为多类情况2，并使：d12(x)= d1(x), d13(x)= d2(x), d23(x)= d3(x)。绘出其判别界面和多类情况2的区域。\n",
    "3. 设d1(x), d2(x)和d3(x)是在多类情况3的条件下确定的，绘出其判别界面和每类的区域。"
   ],
   "metadata": {
    "collapsed": false
   }
  },
  {
   "cell_type": "code",
   "execution_count": 1,
   "outputs": [
    {
     "data": {
      "text/plain": "<Figure size 640x480 with 1 Axes>"
     },
     "metadata": {},
     "output_type": "display_data"
    },
    {
     "data": {
      "text/plain": "<Figure size 640x480 with 1 Axes>"
     },
     "metadata": {},
     "output_type": "display_data"
    },
    {
     "data": {
      "text/plain": "<Figure size 640x480 with 1 Axes>"
     },
     "metadata": {},
     "output_type": "display_data"
    }
   ],
   "source": [
    "# 2-1\n",
    "import matplotlib.pyplot as plt\n",
    "import numpy as np\n",
    "\n",
    "# d1: x1 = 0\n",
    "x1 = np.zeros(20)\n",
    "d1_x2 = np.arange(-10, 10)\n",
    "plt.plot(x1, d1_x2, color='red', label='d1')\n",
    "\n",
    "# d2: x2 = 1 - x1\n",
    "x1 = np.arange(-10, 10)\n",
    "d2_x2 = 1 - x1\n",
    "plt.plot(x1, d2_x2, color='green', label='d2')\n",
    "\n",
    "# d3: x2 = x1 - 1\n",
    "x1 = np.arange(-10, 10)\n",
    "d3_x2 = x1 - 1\n",
    "plt.plot(x1, d3_x2, color='blue', label='d3')\n",
    "\n",
    "plt.xlabel('x1')\n",
    "plt.ylabel('x2')\n",
    "\n",
    "plt.fill_between(x1, d3_x2, d2_x2, where=(x1<=0), facecolor=\"red\", label=\"w1\")\n",
    "\n",
    "plt.fill_between(x1, d2_x2, 10, where=(x1>=0) & (x1<=1), facecolor=\"green\", label=\"w2\")\n",
    "plt.fill_between(x1, d3_x2, 10, where=(x1>=1), facecolor=\"green\")\n",
    "\n",
    "plt.fill_between(x1, -10, d3_x2, where=(x1>=0) & (x1<=1), facecolor=\"blue\", label=\"w3\")\n",
    "plt.fill_between(x1, -10, d2_x2, where=(x1>=1), facecolor=\"blue\")\n",
    "\n",
    "plt.legend()\n",
    "plt.title('2-1 多类情况1')\n",
    "plt.show()\n",
    "\n",
    "# 2-2\n",
    "\n",
    "# d12: x1 = 0\n",
    "x1 = np.zeros(20)\n",
    "d1_x2 = np.arange(-10, 10)\n",
    "plt.plot(x1, d1_x2, color='red', label='d12')\n",
    "\n",
    "# d13: x2 = 1 - x1\n",
    "x1 = np.arange(-10, 10)\n",
    "d2_x2 = 1 - x1\n",
    "plt.plot(x1, d2_x2, color='green', label='d13')\n",
    "\n",
    "# d23: x2 = x1 - 1\n",
    "x1 = np.arange(-10, 10)\n",
    "d3_x2 = x1 - 1\n",
    "plt.plot(x1, d3_x2, color='blue', label='d23')\n",
    "\n",
    "plt.xlabel('x1')\n",
    "plt.ylabel('x2')\n",
    "\n",
    "# w1: d12>0,d13>0\n",
    "plt.fill_between(x1, d2_x2, 10, where=(x1>=0), facecolor=\"red\", label=\"w1\")\n",
    "\n",
    "# w2: d21>0 => d12<0,d23>0\n",
    "plt.fill_between(x1, d3_x2, 10, where=(x1<=0), facecolor=\"green\", label=\"w2\")\n",
    "\n",
    "# w3: d31>0, d32>0 => d13<0,d23<0\n",
    "plt.fill_between(x1, -11, d3_x2, where=(x1<=1), facecolor=\"blue\", label=\"w3\")\n",
    "plt.fill_between(x1, -11, d2_x2, where=(x1>=1), facecolor=\"blue\", label=\"w3\")\n",
    "\n",
    "plt.legend()\n",
    "plt.title('2-2 多类情况2')\n",
    "plt.show()\n",
    "\n",
    "# 2-3\n",
    "\n",
    "# d1: x1 = 0\n",
    "x1 = np.zeros(20)\n",
    "d1_x2 = np.arange(-10, 10)\n",
    "plt.plot(x1, d1_x2, color='red', label='d1')\n",
    "\n",
    "# d2: x2 = 1 - x1\n",
    "x1 = np.arange(-10, 10)\n",
    "d2_x2 = 1 - x1\n",
    "plt.plot(x1, d2_x2, color='green', label='d2')\n",
    "\n",
    "# d3: x2 = x1 - 1\n",
    "x1 = np.arange(-10, 10)\n",
    "d3_x2 = x1 - 1\n",
    "plt.plot(x1, d3_x2, color='blue', label='d3')\n",
    "\n",
    "plt.xlabel('x1')\n",
    "plt.ylabel('x2')\n",
    "x1 = np.arange(-10, 10, 0.2)\n",
    "\n",
    "# w1: d1 > d2, d1 > d3\n",
    "# -x1 > x1 + x2 - 1 => x2 < -2x1 + 1\n",
    "# -x1 > x1 - x2 -1 => x2 > 2x1 - 1\n",
    "plt.fill_between(x1, 2 * x1 - 1, -2 * x1 + 1, where=(x1<=0.5), facecolor=\"red\", label=\"w1\")\n",
    "\n",
    "# w2: d2 > d1, d2 > d3\n",
    "# x1 + x2 - 1 > -x1 => x2 > -2x1 + 1\n",
    "# x1 + x2 - 1 > x1 - x2 -1 => x2 > 0\n",
    "plt.fill_between(x1, -2 * x1 + 1, 21, where=(x1<0.6), facecolor=\"green\", label=\"w2\")\n",
    "plt.fill_between(x1, 0, 21, where=(x1>=0.5), facecolor=\"green\", label=\"w2\")\n",
    "\n",
    "# w3: x2 < 2 * x1 - 1, x2 < 0\n",
    "plt.fill_between(x1, -21, 2 * x1 - 1, where=(x1<0.6), facecolor=\"blue\", label=\"w1\")\n",
    "plt.fill_between(x1, -21, 0, where=(x1>=0.5), facecolor=\"blue\", label=\"w1\")\n",
    "\n",
    "plt.legend()\n",
    "plt.title('2-3 多类情况3')\n",
    "plt.show()"
   ],
   "metadata": {
    "collapsed": false,
    "pycharm": {
     "name": "#%%\n",
     "is_executing": false
    }
   }
  },
  {
   "cell_type": "markdown",
   "source": [
    "## 三、\n",
    "\n",
    "问题：两类模式，每类包括5个3维不同的模式，且良好分布。\n",
    "1. 如果它们是线性可分的，问权向量至少需要几个系数分量？\n",
    "2. 假如要建立二次的多项式判别函数，又至少需要几个系数分量？（设模式的良好分布不因模式变化而改变。）\n",
    "\n",
    "答：\n",
    "1. \n",
    "2. "
   ],
   "metadata": {
    "collapsed": false
   }
  },
  {
   "cell_type": "markdown",
   "source": [
    "## 四、\n",
    "\n",
    "问题：感知器算法求下列模式分类的解向量w:\n",
    "- ω1: [[0, 0, 0], [1, 0, 0], [1, 0, 1], [1, 1, 0]]\n",
    "- ω2: [[0, 0, 1], [0, 1, 1], [0, 1, 0], [1, 1, 1]]"
   ],
   "metadata": {
    "collapsed": false
   }
  },
  {
   "cell_type": "code",
   "execution_count": 2,
   "outputs": [],
   "source": [
    "w1 = [[0, 0, 0], [1, 0, 0], [1, 0, 1], [1, 1, 0]]\n",
    "w1 = np.array(w1)\n",
    "w1 = w1.T\n",
    "\n",
    "w2 = [[0, 0, 1], [0, 1, 1], [0, 1, 0], [1, 1, 1]]\n",
    "w2 = np.array(w2)\n",
    "w2 = w2.T"
   ],
   "metadata": {
    "collapsed": false,
    "pycharm": {
     "name": "#%%\n",
     "is_executing": false
    }
   }
  },
  {
   "cell_type": "code",
   "execution_count": 3,
   "outputs": [
    {
     "name": "stdout",
     "text": [
      "[[0. 1. 1. 1.]\n [0. 0. 0. 1.]\n [0. 0. 1. 0.]\n [1. 1. 1. 1.]]\n[[-0. -0. -0. -1.]\n [-0. -1. -1. -1.]\n [-1. -1. -0. -1.]\n [-1. -1. -1. -1.]]\n[[ 0.  1.  1.  1. -0. -0. -0. -1.]\n [ 0.  0.  0.  1. -0. -1. -1. -1.]\n [ 0.  0.  1.  0. -1. -1. -0. -1.]\n [ 1.  1.  1.  1. -1. -1. -1. -1.]]\n"
     ],
     "output_type": "stream"
    }
   ],
   "source": [
    "tmp = np.ones((1, 4))\n",
    "\n",
    "w1 = np.concatenate((w1, tmp), axis=0)\n",
    "w2 = np.concatenate((w2, tmp), axis=0)\n",
    "w2 = w2 * -1\n",
    "print(w1)\n",
    "print(w2)\n",
    "w = np.concatenate((w1, w2), axis=1)\n",
    "print(w)"
   ],
   "metadata": {
    "collapsed": false,
    "pycharm": {
     "name": "#%%\n",
     "is_executing": false
    }
   }
  },
  {
   "cell_type": "code",
   "execution_count": 4,
   "outputs": [
    {
     "name": "stdout",
     "text": [
      "[[ 2. -2. -2.  1.]]\n"
     ],
     "output_type": "stream"
    }
   ],
   "source": [
    "# 解向量设为a\n",
    "# 初始化解向量\n",
    "# 取C = 1\n",
    "a = np.array([[0, 0, 0, 0]])\n",
    "while True:\n",
    "    # 初始化标志位\n",
    "    flag = True\n",
    "    for _ in range(8):\n",
    "        if np.dot(a, w[:, _].reshape([4, 1]))[0, 0] > 0:\n",
    "            a = a\n",
    "            flag = flag and True\n",
    "        else:\n",
    "            a = a + w[:, _].reshape([1, 4])\n",
    "            flag = flag and False\n",
    "    \n",
    "    if flag:\n",
    "        break\n",
    "\n",
    "print(a)"
   ],
   "metadata": {
    "collapsed": false,
    "pycharm": {
     "name": "#%%\n",
     "is_executing": false
    }
   }
  },
  {
   "cell_type": "markdown",
   "source": [
    "- 所以解向量为 ( 2 -2 -2 1 )\n",
    "- 判别函数为：d(x) = 2x1 - 2x2 - 2x3 + 1\n"
   ],
   "metadata": {
    "collapsed": false
   }
  }
 ],
 "metadata": {
  "kernelspec": {
   "display_name": "Python 3",
   "language": "python",
   "name": "python3"
  },
  "language_info": {
   "codemirror_mode": {
    "name": "ipython",
    "version": 2
   },
   "file_extension": ".py",
   "mimetype": "text/x-python",
   "name": "python",
   "nbconvert_exporter": "python",
   "pygments_lexer": "ipython2",
   "version": "2.7.6"
  },
  "pycharm": {
   "stem_cell": {
    "cell_type": "raw",
    "source": [],
    "metadata": {
     "collapsed": false
    }
   }
  }
 },
 "nbformat": 4,
 "nbformat_minor": 0
}